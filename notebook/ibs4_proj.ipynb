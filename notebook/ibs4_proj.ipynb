{
 "cells": [
  {
   "cell_type": "code",
   "execution_count": 1,
   "metadata": {},
   "outputs": [],
   "source": [
    "import collections\n",
    "from collections import OrderedDict\n",
    "from matplotlib import pyplot as plt\n",
    "from matplotlib import cm\n",
    "import pylab\n",
    "import math"
   ]
  },
  {
   "cell_type": "code",
   "execution_count": null,
   "metadata": {},
   "outputs": [],
   "source": [
    "f = open(\"NC_012920.fasta\")\n",
    "s1 = f.read()\n",
    "data = \"\".join(s1.split(\"\\n\")[1:])"
   ]
  },
  {
   "cell_type": "code",
   "execution_count": null,
   "metadata": {},
   "outputs": [],
   "source": [
    "def count_kmers(sequence, k):\n",
    "    d = collections.defaultdict(int)\n",
    "    for i in xrange(len(data)-(k-1)):\n",
    "        d[sequence[i:i+k]] +=1\n",
    "    for key in d.keys():\n",
    "        if \"N\" in key:\n",
    "            del d[key]\n",
    "    return d"
   ]
  },
  {
   "cell_type": "code",
   "execution_count": null,
   "metadata": {},
   "outputs": [],
   "source": [
    "def probabilities(kmer_count, k):\n",
    "    probabilities = collections.defaultdict(float)\n",
    "    N = len(data)\n",
    "    for key, value in kmer_count.items():\n",
    "        probabilities[key] = float(value) / (N - k + 1)\n",
    "    return probabilities"
   ]
  },
  {
   "cell_type": "code",
   "execution_count": null,
   "metadata": {},
   "outputs": [],
   "source": [
    "def chaos_game_representation(probabilities, k):\n",
    "    array_size = int(math.sqrt(4**k))\n",
    "    chaos = []\n",
    "    for i in range(array_size):\n",
    "        chaos.append([0]*array_size)\n",
    " \n",
    "    maxx = array_size\n",
    "    maxy = array_size\n",
    "    posx = 1\n",
    "    posy = 1\n",
    "    for key, value in probabilities.items():\n",
    "        for char in key:\n",
    "            if char == \"T\":\n",
    "                posx += maxx / 2\n",
    "            elif char == \"C\":\n",
    "                posy += maxy / 2\n",
    "            elif char == \"G\":\n",
    "                posx += maxx / 2\n",
    "                posy += maxy / 2\n",
    "            maxx = maxx / 2\n",
    "            maxy /= 2\n",
    "        chaos[posy-1][posx-1] = value\n",
    "        maxx = array_size\n",
    "        maxy = array_size\n",
    "        posx = 1\n",
    "        posy = 1\n",
    " \n",
    "    return chaos"
   ]
  },
  {
   "cell_type": "code",
   "execution_count": null,
   "metadata": {},
   "outputs": [],
   "source": [
    "f3 = count_kmers(data, 3)\n",
    "f4 = count_kmers(data, 4)\n",
    " \n",
    "f3_prob = probabilities(f3, 3)\n",
    "f4_prob = probabilities(f4, 4)"
   ]
  },
  {
   "cell_type": "code",
   "execution_count": null,
   "metadata": {},
   "outputs": [],
   "source": [
    "chaos_k3 = chaos_game_representation(f3_prob, 3)\n",
    "pylab.title('Chaos game representation for 3-mers')\n",
    "pylab.imshow(chaos_k3, interpolation='nearest', cmap=cm.gray_r)\n",
    "pylab.show()\n",
    " \n",
    "chaos_k4 = chaos_game_representation(f4_prob, 4)\n",
    "pylab.title('Chaos game representation for 4-mers')\n",
    "pylab.imshow(chaos_k4, interpolation='nearest', cmap=cm.gray_r)\n",
    "pylab.show()"
   ]
  }
 ],
 "metadata": {
  "kernelspec": {
   "display_name": "Python 3",
   "language": "python",
   "name": "python3"
  },
  "language_info": {
   "codemirror_mode": {
    "name": "ipython",
    "version": 3
   },
   "file_extension": ".py",
   "mimetype": "text/x-python",
   "name": "python",
   "nbconvert_exporter": "python",
   "pygments_lexer": "ipython3",
   "version": "3.8.5"
  },
  "toc": {
   "base_numbering": 1,
   "nav_menu": {},
   "number_sections": false,
   "sideBar": false,
   "skip_h1_title": false,
   "title_cell": "Table of Contents",
   "title_sidebar": "Contents",
   "toc_cell": false,
   "toc_position": {},
   "toc_section_display": false,
   "toc_window_display": false
  }
 },
 "nbformat": 4,
 "nbformat_minor": 2
}
