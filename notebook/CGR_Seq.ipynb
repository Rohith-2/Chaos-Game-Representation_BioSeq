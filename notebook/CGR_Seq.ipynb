{
 "cells": [
  {
   "cell_type": "code",
   "execution_count": 1,
   "metadata": {},
   "outputs": [],
   "source": [
    "import collections\n",
    "from collections import OrderedDict\n",
    "from matplotlib import pyplot as plt\n",
    "from matplotlib import cm\n",
    "import pylab\n",
    "import math\n",
    "import numpy as np\n",
    "from operator import add\n",
    "from scipy.stats import pearsonr"
   ]
  },
  {
   "cell_type": "code",
   "execution_count": 2,
   "metadata": {},
   "outputs": [],
   "source": [
    "class CGR():\n",
    "    K = 0\n",
    "    c = None\n",
    "    h = \"\"\n",
    "    Data = \"\"\n",
    "    i = 0\n",
    "    def __init__(self,a):\n",
    "        self.i=a\n",
    "    def read_fasta(self,loc):\n",
    "        f = open(loc)\n",
    "        s1 = f.read()\n",
    "        data = \"\".join(s1.split(\"\\n\")[1:])\n",
    "        head = \"\".join(s1.split(\"\\n\")[0:1])\n",
    "        return data,head\n",
    "    \n",
    "    def count_kmers(self,sequence, k):\n",
    "        d = collections.defaultdict(int)\n",
    "        for i in range(len(self.Data)-(k-1)):\n",
    "            d[sequence[i:i+k]] +=1\n",
    "        d.pop(\"N\",None)\n",
    "        return d\n",
    "\n",
    "    def probabilities(self,kmer_count, k):\n",
    "        probabilities = collections.defaultdict(float)\n",
    "        N = len(self.Data)\n",
    "        for key, value in kmer_count.items():\n",
    "            probabilities[key] = float(value) / (N - k + 1)\n",
    "        return probabilities\n",
    "\n",
    "    def chaos_game_representation(self,probabilities, k):\n",
    "        array_size = int(math.sqrt(4**k))\n",
    "        chaos = []\n",
    "        for i in range(array_size):\n",
    "            chaos.append([0]*array_size)\n",
    "        maxx = array_size\n",
    "        maxy = array_size\n",
    "        posx = 1\n",
    "        posy = 1\n",
    "        for key, value in probabilities.items():\n",
    "            for char in key:\n",
    "                if char == \"T\":\n",
    "                    posx +=  maxx/2\n",
    "                elif char == \"C\":\n",
    "                    posy += maxy/2\n",
    "                elif char == \"G\":\n",
    "                    posx += maxx/2\n",
    "                    posy += maxy/2\n",
    "                maxx /= 2\n",
    "                maxy /= 2\n",
    "\n",
    "            chaos[int(posy-1)][int(posx-1)] = value\n",
    "            maxx = array_size\n",
    "            maxy = array_size\n",
    "            posx = 1\n",
    "            posy = 1\n",
    "        chaos = chaos/np.amax(chaos)\n",
    "        return chaos*100\n",
    "\n",
    "    def load_fasta(self,loc,k):\n",
    "        data,head = self.read_fasta(loc)\n",
    "        self.Data = data\n",
    "        f4 = self.count_kmers(data, k)\n",
    "        f4_prob = self.probabilities(f4, k)\n",
    "        chaos_k4 = self.chaos_game_representation(f4_prob, k)\n",
    "        self.c = chaos_k4\n",
    "        self.h = head\n",
    "        return chaos_k4\n",
    "    \n",
    "    def show(self):\n",
    "        pylab.figure(figsize=(12,12))\n",
    "        pylab.title('CGR of '+str(self.K)+'-mers for '+self.h[2:])\n",
    "        pylab.imshow(self.c, cmap=cm.gray_r,filternorm=False,filterrad=10,vmin=0, vmax=2)#,interpolation = \"spline36\")\n",
    "        pylab.savefig(str(self.i)+\".PNG\")\n",
    "        pylab.show()"
   ]
  },
  {
   "cell_type": "code",
   "execution_count": null,
   "metadata": {},
   "outputs": [],
   "source": [
    "B = CGR(1)\n",
    "cg = B.load_fasta(\"seq_1.fasta\",11)\n",
    "C = CGR(2)\n",
    "cg_1 = C.load_fasta(\"seq_2.fasta\",7)"
   ]
  },
  {
   "cell_type": "code",
   "execution_count": null,
   "metadata": {},
   "outputs": [],
   "source": [
    "x = B.show()"
   ]
  },
  {
   "cell_type": "code",
   "execution_count": null,
   "metadata": {},
   "outputs": [],
   "source": [
    "C.show()"
   ]
  },
  {
   "cell_type": "code",
   "execution_count": null,
   "metadata": {},
   "outputs": [],
   "source": [
    "np.array(cg).shape"
   ]
  },
  {
   "cell_type": "code",
   "execution_count": null,
   "metadata": {},
   "outputs": [],
   "source": [
    "a = max(cg[0])\n",
    "b = max(cg[1])\n",
    "CG = list(map(lambda x,y:((x*(1/a))+(y*(1/b))*10)**0.5, cg[0],cg[1]))\n",
    "a = max(cg_1[0])\n",
    "b = max(cg_1[1])\n",
    "CG_1 = list(map(lambda x,y:((x*(1/a))+(y*(1/b))*10)**0.5, cg_1[0],cg_1[1]))"
   ]
  },
  {
   "cell_type": "code",
   "execution_count": null,
   "metadata": {},
   "outputs": [],
   "source": [
    "CG_1"
   ]
  },
  {
   "cell_type": "code",
   "execution_count": null,
   "metadata": {},
   "outputs": [],
   "source": [
    "CG"
   ]
  },
  {
   "cell_type": "code",
   "execution_count": null,
   "metadata": {
    "scrolled": true
   },
   "outputs": [],
   "source": [
    "from scipy.stats import spearmanr\n",
    "corr, _ = spearmanr(CG,CG_1)\n",
    "print('Spearmans correlation: %.3f' % corr)"
   ]
  },
  {
   "cell_type": "code",
   "execution_count": null,
   "metadata": {},
   "outputs": [],
   "source": [
    "f = open(\"seq_1.fasta\")\n",
    "s1 = f.read()\n",
    "data_1 = \"\".join(s1.split(\"\\n\")[1:])\n",
    "f = open(\"seq_2.fasta\")\n",
    "s1 = f.read()\n",
    "data_2 = \"\".join(s1.split(\"\\n\")[1:])"
   ]
  },
  {
   "cell_type": "code",
   "execution_count": null,
   "metadata": {},
   "outputs": [],
   "source": [
    "sum=0\n",
    "for i in range(len(data_2)):\n",
    "    if data_1[i]==data_2[i]:\n",
    "        sum+=1\n",
    "sum/=len(data_1)\n",
    "print(sum)"
   ]
  },
  {
   "cell_type": "code",
   "execution_count": null,
   "metadata": {},
   "outputs": [],
   "source": [
    "import cv2\n",
    "from skimage.metrics import structural_similarity as ssim\n",
    "imageA = cv2.imread(\"first.PNG\")\n",
    "imageB = cv2.imread(\"2.PNG\")"
   ]
  },
  {
   "cell_type": "code",
   "execution_count": null,
   "metadata": {},
   "outputs": [],
   "source": [
    "grayA = cv2.cvtColor(imageA, cv2.COLOR_BGR2GRAY)\n",
    "grayB = cv2.cvtColor(imageB, cv2.COLOR_BGR2GRAY)\n",
    "(score,_) = ssim(grayA, grayB, full=True)"
   ]
  },
  {
   "cell_type": "code",
   "execution_count": null,
   "metadata": {},
   "outputs": [],
   "source": [
    "score"
   ]
  },
  {
   "cell_type": "code",
   "execution_count": null,
   "metadata": {},
   "outputs": [],
   "source": [
    "pip install SSIM-PIL"
   ]
  },
  {
   "cell_type": "code",
   "execution_count": null,
   "metadata": {},
   "outputs": [],
   "source": [
    "from SSIM_PIL import compare_ssim\n",
    "from PIL import Image\n",
    "\n",
    "image1 = Image.open('F.PNG')\n",
    "image2 = Image.open('S.PNG')\n",
    "value = compare_ssim(image1, image2)\n",
    "print(value)"
   ]
  },
  {
   "cell_type": "code",
   "execution_count": null,
   "metadata": {},
   "outputs": [],
   "source": [
    "pip install cgr-view"
   ]
  },
  {
   "cell_type": "code",
   "execution_count": null,
   "metadata": {},
   "outputs": [],
   "source": [
    "pip install jellyfish"
   ]
  },
  {
   "cell_type": "code",
   "execution_count": null,
   "metadata": {},
   "outputs": [],
   "source": [
    "import cgr"
   ]
  },
  {
   "cell_type": "code",
   "execution_count": null,
   "metadata": {},
   "outputs": [],
   "source": [
    "cgr.run_jellyfish(\"seq_1.fasta\", 11, \"11mer.jf\")\n",
    "cgr2 = cgr.cgr_matrix(\"11mer.jf\")"
   ]
  },
  {
   "cell_type": "code",
   "execution_count": null,
   "metadata": {},
   "outputs": [],
   "source": [
    "c = cgr.from_fasta(\"seq_1.fasta\", k = 11, as_single = True)"
   ]
  },
  {
   "cell_type": "code",
   "execution_count": null,
   "metadata": {},
   "outputs": [],
   "source": [
    "cgr.load_npy(\"\")"
   ]
  },
  {
   "cell_type": "code",
   "execution_count": null,
   "metadata": {},
   "outputs": [],
   "source": [
    "cgr.draw_cgr(cgr2, h = 0.64, v = 1.0, resize = True)"
   ]
  },
  {
   "cell_type": "code",
   "execution_count": null,
   "metadata": {},
   "outputs": [],
   "source": []
  }
 ],
 "metadata": {
  "kernelspec": {
   "display_name": "Python 3.9",
   "language": "python",
   "name": "python3.9"
  },
  "language_info": {
   "codemirror_mode": {
    "name": "ipython",
    "version": 3
   },
   "file_extension": ".py",
   "mimetype": "text/x-python",
   "name": "python",
   "nbconvert_exporter": "python",
   "pygments_lexer": "ipython3",
   "version": "3.9.2"
  },
  "toc": {
   "base_numbering": 1,
   "nav_menu": {},
   "number_sections": false,
   "sideBar": false,
   "skip_h1_title": false,
   "title_cell": "Table of Contents",
   "title_sidebar": "Contents",
   "toc_cell": false,
   "toc_position": {},
   "toc_section_display": false,
   "toc_window_display": false
  }
 },
 "nbformat": 4,
 "nbformat_minor": 4
}
